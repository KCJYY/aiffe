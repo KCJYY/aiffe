{
 "cells": [
  {
   "cell_type": "code",
   "execution_count": 2,
   "id": "13bca0b3",
   "metadata": {},
   "outputs": [],
   "source": [
    "import pandas as pd\n",
    "import numpy as numpy\n",
    "import matplotlib.pyplot as plt\n",
    "plt.style.use('default')\n",
    "import seaborn as sns"
   ]
  },
  {
   "cell_type": "code",
   "execution_count": 3,
   "id": "13a5865e",
   "metadata": {},
   "outputs": [
    {
     "data": {
      "text/html": [
       "<div>\n",
       "<style scoped>\n",
       "    .dataframe tbody tr th:only-of-type {\n",
       "        vertical-align: middle;\n",
       "    }\n",
       "\n",
       "    .dataframe tbody tr th {\n",
       "        vertical-align: top;\n",
       "    }\n",
       "\n",
       "    .dataframe thead th {\n",
       "        text-align: right;\n",
       "    }\n",
       "</style>\n",
       "<table border=\"1\" class=\"dataframe\">\n",
       "  <thead>\n",
       "    <tr style=\"text-align: right;\">\n",
       "      <th></th>\n",
       "      <th>요금제명</th>\n",
       "      <th>입실</th>\n",
       "      <th>퇴실</th>\n",
       "      <th>이용</th>\n",
       "      <th>위치</th>\n",
       "      <th>금액</th>\n",
       "      <th>구분</th>\n",
       "      <th>고객</th>\n",
       "    </tr>\n",
       "  </thead>\n",
       "  <tbody>\n",
       "    <tr>\n",
       "      <th>0</th>\n",
       "      <td>시간요금제(1시간)</td>\n",
       "      <td>2022-04-01 23:39</td>\n",
       "      <td>2022-04-02 0:39</td>\n",
       "      <td>오전 1:00:00</td>\n",
       "      <td>선불기2</td>\n",
       "      <td>3000</td>\n",
       "      <td>퇴실</td>\n",
       "      <td>customer263717</td>\n",
       "    </tr>\n",
       "    <tr>\n",
       "      <th>1</th>\n",
       "      <td>시간요금제(1시간)</td>\n",
       "      <td>2022-04-01 23:39</td>\n",
       "      <td>2022-04-02 0:39</td>\n",
       "      <td>오전 1:00:00</td>\n",
       "      <td>선불기2</td>\n",
       "      <td>3000</td>\n",
       "      <td>퇴실</td>\n",
       "      <td>customer263717</td>\n",
       "    </tr>\n",
       "    <tr>\n",
       "      <th>2</th>\n",
       "      <td>무제한 입장권</td>\n",
       "      <td>2022-04-01 20:55</td>\n",
       "      <td>2022-04-01 21:41</td>\n",
       "      <td>오전 12:46:00</td>\n",
       "      <td>선불기2</td>\n",
       "      <td>7400</td>\n",
       "      <td>퇴실</td>\n",
       "      <td>customer247263</td>\n",
       "    </tr>\n",
       "    <tr>\n",
       "      <th>3</th>\n",
       "      <td>무제한 입장권</td>\n",
       "      <td>2022-04-01 20:55</td>\n",
       "      <td>2022-04-01 21:41</td>\n",
       "      <td>오전 12:46:00</td>\n",
       "      <td>선불기2</td>\n",
       "      <td>7400</td>\n",
       "      <td>퇴실</td>\n",
       "      <td>customer247263</td>\n",
       "    </tr>\n",
       "    <tr>\n",
       "      <th>4</th>\n",
       "      <td>한국대생 무제한 입장권</td>\n",
       "      <td>2022-04-01 19:54</td>\n",
       "      <td>2022-04-01 22:28</td>\n",
       "      <td>오전 2:33:00</td>\n",
       "      <td>선불기2</td>\n",
       "      <td>7400</td>\n",
       "      <td>퇴실</td>\n",
       "      <td>customer388928</td>\n",
       "    </tr>\n",
       "  </tbody>\n",
       "</table>\n",
       "</div>"
      ],
      "text/plain": [
       "           요금제명                입실                퇴실           이용    위치    금액  \\\n",
       "0    시간요금제(1시간)  2022-04-01 23:39   2022-04-02 0:39   오전 1:00:00  선불기2  3000   \n",
       "1    시간요금제(1시간)  2022-04-01 23:39   2022-04-02 0:39   오전 1:00:00  선불기2  3000   \n",
       "2       무제한 입장권  2022-04-01 20:55  2022-04-01 21:41  오전 12:46:00  선불기2  7400   \n",
       "3       무제한 입장권  2022-04-01 20:55  2022-04-01 21:41  오전 12:46:00  선불기2  7400   \n",
       "4  한국대생 무제한 입장권  2022-04-01 19:54  2022-04-01 22:28   오전 2:33:00  선불기2  7400   \n",
       "\n",
       "   구분              고객  \n",
       "0  퇴실  customer263717  \n",
       "1  퇴실  customer263717  \n",
       "2  퇴실  customer247263  \n",
       "3  퇴실  customer247263  \n",
       "4  퇴실  customer388928  "
      ]
     },
     "execution_count": 3,
     "metadata": {},
     "output_type": "execute_result"
    }
   ],
   "source": [
    "entry_data=pd.read_csv('~/aiffel/data_analysis_basic/data/entry_data.csv')\n",
    "entry_data.head()"
   ]
  },
  {
   "cell_type": "code",
   "execution_count": 4,
   "id": "574af8a9",
   "metadata": {},
   "outputs": [
    {
     "data": {
      "text/html": [
       "<div>\n",
       "<style scoped>\n",
       "    .dataframe tbody tr th:only-of-type {\n",
       "        vertical-align: middle;\n",
       "    }\n",
       "\n",
       "    .dataframe tbody tr th {\n",
       "        vertical-align: top;\n",
       "    }\n",
       "\n",
       "    .dataframe thead th {\n",
       "        text-align: right;\n",
       "    }\n",
       "</style>\n",
       "<table border=\"1\" class=\"dataframe\">\n",
       "  <thead>\n",
       "    <tr style=\"text-align: right;\">\n",
       "      <th></th>\n",
       "      <th>요금제명</th>\n",
       "      <th>입실</th>\n",
       "      <th>퇴실</th>\n",
       "      <th>이용</th>\n",
       "      <th>위치</th>\n",
       "      <th>금액</th>\n",
       "      <th>구분</th>\n",
       "      <th>고객</th>\n",
       "    </tr>\n",
       "  </thead>\n",
       "  <tbody>\n",
       "    <tr>\n",
       "      <th>22550</th>\n",
       "      <td>종일요금제</td>\n",
       "      <td>2021-02-17 13:09</td>\n",
       "      <td>2021-02-17 14:19</td>\n",
       "      <td>오전 1:10:00</td>\n",
       "      <td>선불기1</td>\n",
       "      <td>6500</td>\n",
       "      <td>퇴실</td>\n",
       "      <td>customer774105</td>\n",
       "    </tr>\n",
       "    <tr>\n",
       "      <th>22551</th>\n",
       "      <td>종일요금제</td>\n",
       "      <td>2021-02-17 13:09</td>\n",
       "      <td>2021-02-17 14:19</td>\n",
       "      <td>오전 1:10:00</td>\n",
       "      <td>선불기1</td>\n",
       "      <td>6500</td>\n",
       "      <td>퇴실</td>\n",
       "      <td>customer774105</td>\n",
       "    </tr>\n",
       "    <tr>\n",
       "      <th>22552</th>\n",
       "      <td>종일요금제</td>\n",
       "      <td>2021-02-17 13:06</td>\n",
       "      <td>2021-02-17 14:19</td>\n",
       "      <td>오전 1:13:00</td>\n",
       "      <td>선불기1</td>\n",
       "      <td>7000</td>\n",
       "      <td>퇴실</td>\n",
       "      <td>customer774105</td>\n",
       "    </tr>\n",
       "    <tr>\n",
       "      <th>22553</th>\n",
       "      <td>종일요금제</td>\n",
       "      <td>2021-02-17 13:06</td>\n",
       "      <td>2021-02-17 14:19</td>\n",
       "      <td>오전 1:13:00</td>\n",
       "      <td>선불기1</td>\n",
       "      <td>7000</td>\n",
       "      <td>퇴실</td>\n",
       "      <td>customer774105</td>\n",
       "    </tr>\n",
       "    <tr>\n",
       "      <th>22554</th>\n",
       "      <td>종일요금제</td>\n",
       "      <td>2021-02-17 12:58</td>\n",
       "      <td>2021-02-17 14:19</td>\n",
       "      <td>오전 1:21:00</td>\n",
       "      <td>선불기1</td>\n",
       "      <td>7000</td>\n",
       "      <td>퇴실</td>\n",
       "      <td>customer774105</td>\n",
       "    </tr>\n",
       "  </tbody>\n",
       "</table>\n",
       "</div>"
      ],
      "text/plain": [
       "        요금제명                입실                퇴실          이용    위치    금액  구분  \\\n",
       "22550  종일요금제  2021-02-17 13:09  2021-02-17 14:19  오전 1:10:00  선불기1  6500  퇴실   \n",
       "22551  종일요금제  2021-02-17 13:09  2021-02-17 14:19  오전 1:10:00  선불기1  6500  퇴실   \n",
       "22552  종일요금제  2021-02-17 13:06  2021-02-17 14:19  오전 1:13:00  선불기1  7000  퇴실   \n",
       "22553  종일요금제  2021-02-17 13:06  2021-02-17 14:19  오전 1:13:00  선불기1  7000  퇴실   \n",
       "22554  종일요금제  2021-02-17 12:58  2021-02-17 14:19  오전 1:21:00  선불기1  7000  퇴실   \n",
       "\n",
       "                   고객  \n",
       "22550  customer774105  \n",
       "22551  customer774105  \n",
       "22552  customer774105  \n",
       "22553  customer774105  \n",
       "22554  customer774105  "
      ]
     },
     "execution_count": 4,
     "metadata": {},
     "output_type": "execute_result"
    }
   ],
   "source": [
    "entry_data=pd.read_csv('~/aiffel/data_analysis_basic/data/entry_data.csv')\n",
    "entry_data.tail()"
   ]
  },
  {
   "cell_type": "code",
   "execution_count": 5,
   "id": "71a524a3",
   "metadata": {},
   "outputs": [
    {
     "data": {
      "text/html": [
       "<div>\n",
       "<style scoped>\n",
       "    .dataframe tbody tr th:only-of-type {\n",
       "        vertical-align: middle;\n",
       "    }\n",
       "\n",
       "    .dataframe tbody tr th {\n",
       "        vertical-align: top;\n",
       "    }\n",
       "\n",
       "    .dataframe thead th {\n",
       "        text-align: right;\n",
       "    }\n",
       "</style>\n",
       "<table border=\"1\" class=\"dataframe\">\n",
       "  <thead>\n",
       "    <tr style=\"text-align: right;\">\n",
       "      <th></th>\n",
       "      <th>결제일시</th>\n",
       "      <th>판매위치</th>\n",
       "      <th>상품명</th>\n",
       "      <th>결제방식</th>\n",
       "      <th>비고</th>\n",
       "      <th>판매수량</th>\n",
       "      <th>결제금액</th>\n",
       "      <th>고객</th>\n",
       "    </tr>\n",
       "  </thead>\n",
       "  <tbody>\n",
       "    <tr>\n",
       "      <th>0</th>\n",
       "      <td>2022-04-01 19:41</td>\n",
       "      <td>선불기1</td>\n",
       "      <td>치킨카라아케 6pc</td>\n",
       "      <td>신용카드</td>\n",
       "      <td>결제완료</td>\n",
       "      <td>1</td>\n",
       "      <td>4,500</td>\n",
       "      <td>customer275507</td>\n",
       "    </tr>\n",
       "    <tr>\n",
       "      <th>1</th>\n",
       "      <td>2022-04-01 19:41</td>\n",
       "      <td>선불기1</td>\n",
       "      <td>짜장라면(계란추가)</td>\n",
       "      <td>신용카드</td>\n",
       "      <td>결제완료</td>\n",
       "      <td>1</td>\n",
       "      <td>5,500</td>\n",
       "      <td>customer275507</td>\n",
       "    </tr>\n",
       "    <tr>\n",
       "      <th>2</th>\n",
       "      <td>2022-04-01 19:41</td>\n",
       "      <td>선불기1</td>\n",
       "      <td>라면</td>\n",
       "      <td>신용카드</td>\n",
       "      <td>결제완료</td>\n",
       "      <td>1</td>\n",
       "      <td>4,000</td>\n",
       "      <td>customer275507</td>\n",
       "    </tr>\n",
       "    <tr>\n",
       "      <th>3</th>\n",
       "      <td>2022-04-01 19:41</td>\n",
       "      <td>선불기1</td>\n",
       "      <td>비엔나소세지(토핑)</td>\n",
       "      <td>신용카드</td>\n",
       "      <td>결제완료</td>\n",
       "      <td>1</td>\n",
       "      <td>1,000</td>\n",
       "      <td>customer275507</td>\n",
       "    </tr>\n",
       "    <tr>\n",
       "      <th>4</th>\n",
       "      <td>2022-04-01 19:41</td>\n",
       "      <td>선불기1</td>\n",
       "      <td>라면(계란/치즈추가)</td>\n",
       "      <td>신용카드</td>\n",
       "      <td>결제완료</td>\n",
       "      <td>1</td>\n",
       "      <td>5,000</td>\n",
       "      <td>customer275507</td>\n",
       "    </tr>\n",
       "  </tbody>\n",
       "</table>\n",
       "</div>"
      ],
      "text/plain": [
       "               결제일시  판매위치          상품명  결제방식    비고  판매수량   결제금액  \\\n",
       "0  2022-04-01 19:41  선불기1   치킨카라아케 6pc  신용카드  결제완료     1  4,500   \n",
       "1  2022-04-01 19:41  선불기1   짜장라면(계란추가)  신용카드  결제완료     1  5,500   \n",
       "2  2022-04-01 19:41  선불기1           라면  신용카드  결제완료     1  4,000   \n",
       "3  2022-04-01 19:41  선불기1   비엔나소세지(토핑)  신용카드  결제완료     1  1,000   \n",
       "4  2022-04-01 19:41  선불기1  라면(계란/치즈추가)  신용카드  결제완료     1  5,000   \n",
       "\n",
       "               고객  \n",
       "0  customer275507  \n",
       "1  customer275507  \n",
       "2  customer275507  \n",
       "3  customer275507  \n",
       "4  customer275507  "
      ]
     },
     "execution_count": 5,
     "metadata": {},
     "output_type": "execute_result"
    }
   ],
   "source": [
    "sales_data=pd.read_csv('~/aiffel/data_analysis_basic/data/sales_data.csv')\n",
    "sales_data.head()"
   ]
  },
  {
   "cell_type": "code",
   "execution_count": 6,
   "id": "4fc0b6ac",
   "metadata": {},
   "outputs": [
    {
     "data": {
      "text/html": [
       "<div>\n",
       "<style scoped>\n",
       "    .dataframe tbody tr th:only-of-type {\n",
       "        vertical-align: middle;\n",
       "    }\n",
       "\n",
       "    .dataframe tbody tr th {\n",
       "        vertical-align: top;\n",
       "    }\n",
       "\n",
       "    .dataframe thead th {\n",
       "        text-align: right;\n",
       "    }\n",
       "</style>\n",
       "<table border=\"1\" class=\"dataframe\">\n",
       "  <thead>\n",
       "    <tr style=\"text-align: right;\">\n",
       "      <th></th>\n",
       "      <th>구분</th>\n",
       "      <th>분류</th>\n",
       "      <th>상품명</th>\n",
       "      <th>판매금액</th>\n",
       "    </tr>\n",
       "  </thead>\n",
       "  <tbody>\n",
       "    <tr>\n",
       "      <th>0</th>\n",
       "      <td>1</td>\n",
       "      <td>게임&amp;TV</td>\n",
       "      <td>이어폰(커널형)</td>\n",
       "      <td>3,000원</td>\n",
       "    </tr>\n",
       "    <tr>\n",
       "      <th>1</th>\n",
       "      <td>2</td>\n",
       "      <td>디저트</td>\n",
       "      <td>초코머핀</td>\n",
       "      <td>3,500원</td>\n",
       "    </tr>\n",
       "    <tr>\n",
       "      <th>2</th>\n",
       "      <td>3</td>\n",
       "      <td>디저트</td>\n",
       "      <td>쿠키(초코칩)</td>\n",
       "      <td>1,500원</td>\n",
       "    </tr>\n",
       "    <tr>\n",
       "      <th>3</th>\n",
       "      <td>4</td>\n",
       "      <td>디저트</td>\n",
       "      <td>쿠키(마카다미아)</td>\n",
       "      <td>1,500원</td>\n",
       "    </tr>\n",
       "    <tr>\n",
       "      <th>4</th>\n",
       "      <td>5</td>\n",
       "      <td>디저트</td>\n",
       "      <td>미니마카롱(3개)</td>\n",
       "      <td>2,000원</td>\n",
       "    </tr>\n",
       "  </tbody>\n",
       "</table>\n",
       "</div>"
      ],
      "text/plain": [
       "   구분     분류        상품명    판매금액\n",
       "0   1  게임&TV   이어폰(커널형)  3,000원\n",
       "1   2    디저트       초코머핀  3,500원\n",
       "2   3    디저트    쿠키(초코칩)  1,500원\n",
       "3   4    디저트  쿠키(마카다미아)  1,500원\n",
       "4   5    디저트  미니마카롱(3개)  2,000원"
      ]
     },
     "execution_count": 6,
     "metadata": {},
     "output_type": "execute_result"
    }
   ],
   "source": [
    "item_data=pd.read_csv('~/aiffel/data_analysis_basic/data/item_data.csv')\n",
    "item_data.head()"
   ]
  },
  {
   "cell_type": "code",
   "execution_count": 7,
   "id": "643c4b57",
   "metadata": {},
   "outputs": [
    {
     "data": {
      "text/html": [
       "<div>\n",
       "<style scoped>\n",
       "    .dataframe tbody tr th:only-of-type {\n",
       "        vertical-align: middle;\n",
       "    }\n",
       "\n",
       "    .dataframe tbody tr th {\n",
       "        vertical-align: top;\n",
       "    }\n",
       "\n",
       "    .dataframe thead th {\n",
       "        text-align: right;\n",
       "    }\n",
       "</style>\n",
       "<table border=\"1\" class=\"dataframe\">\n",
       "  <thead>\n",
       "    <tr style=\"text-align: right;\">\n",
       "      <th></th>\n",
       "      <th>구분</th>\n",
       "      <th>분류</th>\n",
       "      <th>상품명</th>\n",
       "      <th>판매금액</th>\n",
       "    </tr>\n",
       "  </thead>\n",
       "  <tbody>\n",
       "    <tr>\n",
       "      <th>0</th>\n",
       "      <td>1</td>\n",
       "      <td>게임&amp;TV</td>\n",
       "      <td>이어폰(커널형)</td>\n",
       "      <td>3,000원</td>\n",
       "    </tr>\n",
       "    <tr>\n",
       "      <th>1</th>\n",
       "      <td>2</td>\n",
       "      <td>디저트</td>\n",
       "      <td>초코머핀</td>\n",
       "      <td>3,500원</td>\n",
       "    </tr>\n",
       "    <tr>\n",
       "      <th>2</th>\n",
       "      <td>3</td>\n",
       "      <td>디저트</td>\n",
       "      <td>쿠키(초코칩)</td>\n",
       "      <td>1,500원</td>\n",
       "    </tr>\n",
       "    <tr>\n",
       "      <th>3</th>\n",
       "      <td>4</td>\n",
       "      <td>디저트</td>\n",
       "      <td>쿠키(마카다미아)</td>\n",
       "      <td>1,500원</td>\n",
       "    </tr>\n",
       "    <tr>\n",
       "      <th>4</th>\n",
       "      <td>5</td>\n",
       "      <td>디저트</td>\n",
       "      <td>미니마카롱(3개)</td>\n",
       "      <td>2,000원</td>\n",
       "    </tr>\n",
       "  </tbody>\n",
       "</table>\n",
       "</div>"
      ],
      "text/plain": [
       "   구분     분류        상품명    판매금액\n",
       "0   1  게임&TV   이어폰(커널형)  3,000원\n",
       "1   2    디저트       초코머핀  3,500원\n",
       "2   3    디저트    쿠키(초코칩)  1,500원\n",
       "3   4    디저트  쿠키(마카다미아)  1,500원\n",
       "4   5    디저트  미니마카롱(3개)  2,000원"
      ]
     },
     "execution_count": 7,
     "metadata": {},
     "output_type": "execute_result"
    }
   ],
   "source": [
    "item_entry_data=pd.read_csv('~/aiffel/data_analysis_basic/data/item_data.csv')\n",
    "item_entry_data.head()"
   ]
  },
  {
   "cell_type": "code",
   "execution_count": 8,
   "id": "865361f3",
   "metadata": {},
   "outputs": [
    {
     "data": {
      "text/plain": [
       "(7105, 8)"
      ]
     },
     "execution_count": 8,
     "metadata": {},
     "output_type": "execute_result"
    }
   ],
   "source": [
    "sales_data.shape"
   ]
  },
  {
   "cell_type": "code",
   "execution_count": 9,
   "id": "f5e0b87d",
   "metadata": {},
   "outputs": [
    {
     "data": {
      "text/plain": [
       "(174, 4)"
      ]
     },
     "execution_count": 9,
     "metadata": {},
     "output_type": "execute_result"
    }
   ],
   "source": [
    "item_data.shape"
   ]
  },
  {
   "cell_type": "code",
   "execution_count": 10,
   "id": "fdfe9fa0",
   "metadata": {},
   "outputs": [
    {
     "data": {
      "text/plain": [
       "(22555, 8)"
      ]
     },
     "execution_count": 10,
     "metadata": {},
     "output_type": "execute_result"
    }
   ],
   "source": [
    "entry_data.shape"
   ]
  },
  {
   "cell_type": "code",
   "execution_count": 11,
   "id": "5d6c1669",
   "metadata": {},
   "outputs": [
    {
     "data": {
      "text/plain": [
       "Index(['결제일시', '판매위치', '상품명', '결제방식', '비고', '판매수량', '결제금액', '고객'], dtype='object')"
      ]
     },
     "execution_count": 11,
     "metadata": {},
     "output_type": "execute_result"
    }
   ],
   "source": [
    "sales_data.columns"
   ]
  },
  {
   "cell_type": "code",
   "execution_count": 12,
   "id": "014bbcb7",
   "metadata": {},
   "outputs": [],
   "source": [
    "bs=sales_data[[\"결제일시\",\"판매위치\",\"상품명\",\"결제방식\",\"판매수량\",\"고객\",\"결제금액\"]]"
   ]
  },
  {
   "cell_type": "code",
   "execution_count": 13,
   "id": "a3e6e2cd",
   "metadata": {},
   "outputs": [
    {
     "data": {
      "text/html": [
       "<div>\n",
       "<style scoped>\n",
       "    .dataframe tbody tr th:only-of-type {\n",
       "        vertical-align: middle;\n",
       "    }\n",
       "\n",
       "    .dataframe tbody tr th {\n",
       "        vertical-align: top;\n",
       "    }\n",
       "\n",
       "    .dataframe thead th {\n",
       "        text-align: right;\n",
       "    }\n",
       "</style>\n",
       "<table border=\"1\" class=\"dataframe\">\n",
       "  <thead>\n",
       "    <tr style=\"text-align: right;\">\n",
       "      <th></th>\n",
       "      <th>결제일시</th>\n",
       "      <th>판매위치</th>\n",
       "      <th>상품명</th>\n",
       "      <th>결제방식</th>\n",
       "      <th>판매수량</th>\n",
       "      <th>고객</th>\n",
       "      <th>결제금액</th>\n",
       "    </tr>\n",
       "  </thead>\n",
       "  <tbody>\n",
       "    <tr>\n",
       "      <th>0</th>\n",
       "      <td>2022-04-01 19:41</td>\n",
       "      <td>선불기1</td>\n",
       "      <td>치킨카라아케 6pc</td>\n",
       "      <td>신용카드</td>\n",
       "      <td>1</td>\n",
       "      <td>customer275507</td>\n",
       "      <td>4,500</td>\n",
       "    </tr>\n",
       "    <tr>\n",
       "      <th>1</th>\n",
       "      <td>2022-04-01 19:41</td>\n",
       "      <td>선불기1</td>\n",
       "      <td>짜장라면(계란추가)</td>\n",
       "      <td>신용카드</td>\n",
       "      <td>1</td>\n",
       "      <td>customer275507</td>\n",
       "      <td>5,500</td>\n",
       "    </tr>\n",
       "    <tr>\n",
       "      <th>2</th>\n",
       "      <td>2022-04-01 19:41</td>\n",
       "      <td>선불기1</td>\n",
       "      <td>라면</td>\n",
       "      <td>신용카드</td>\n",
       "      <td>1</td>\n",
       "      <td>customer275507</td>\n",
       "      <td>4,000</td>\n",
       "    </tr>\n",
       "    <tr>\n",
       "      <th>3</th>\n",
       "      <td>2022-04-01 19:41</td>\n",
       "      <td>선불기1</td>\n",
       "      <td>비엔나소세지(토핑)</td>\n",
       "      <td>신용카드</td>\n",
       "      <td>1</td>\n",
       "      <td>customer275507</td>\n",
       "      <td>1,000</td>\n",
       "    </tr>\n",
       "    <tr>\n",
       "      <th>4</th>\n",
       "      <td>2022-04-01 19:41</td>\n",
       "      <td>선불기1</td>\n",
       "      <td>라면(계란/치즈추가)</td>\n",
       "      <td>신용카드</td>\n",
       "      <td>1</td>\n",
       "      <td>customer275507</td>\n",
       "      <td>5,000</td>\n",
       "    </tr>\n",
       "  </tbody>\n",
       "</table>\n",
       "</div>"
      ],
      "text/plain": [
       "               결제일시  판매위치          상품명  결제방식  판매수량              고객   결제금액\n",
       "0  2022-04-01 19:41  선불기1   치킨카라아케 6pc  신용카드     1  customer275507  4,500\n",
       "1  2022-04-01 19:41  선불기1   짜장라면(계란추가)  신용카드     1  customer275507  5,500\n",
       "2  2022-04-01 19:41  선불기1           라면  신용카드     1  customer275507  4,000\n",
       "3  2022-04-01 19:41  선불기1   비엔나소세지(토핑)  신용카드     1  customer275507  1,000\n",
       "4  2022-04-01 19:41  선불기1  라면(계란/치즈추가)  신용카드     1  customer275507  5,000"
      ]
     },
     "execution_count": 13,
     "metadata": {},
     "output_type": "execute_result"
    }
   ],
   "source": [
    "bs.head()"
   ]
  },
  {
   "cell_type": "code",
   "execution_count": 14,
   "id": "b585ac87",
   "metadata": {},
   "outputs": [
    {
     "data": {
      "text/html": [
       "<div>\n",
       "<style scoped>\n",
       "    .dataframe tbody tr th:only-of-type {\n",
       "        vertical-align: middle;\n",
       "    }\n",
       "\n",
       "    .dataframe tbody tr th {\n",
       "        vertical-align: top;\n",
       "    }\n",
       "\n",
       "    .dataframe thead th {\n",
       "        text-align: right;\n",
       "    }\n",
       "</style>\n",
       "<table border=\"1\" class=\"dataframe\">\n",
       "  <thead>\n",
       "    <tr style=\"text-align: right;\">\n",
       "      <th></th>\n",
       "      <th>판매수량</th>\n",
       "    </tr>\n",
       "    <tr>\n",
       "      <th>상품명</th>\n",
       "      <th></th>\n",
       "    </tr>\n",
       "  </thead>\n",
       "  <tbody>\n",
       "    <tr>\n",
       "      <th>(면)계란추가-국물라면</th>\n",
       "      <td>1.000000</td>\n",
       "    </tr>\n",
       "    <tr>\n",
       "      <th>(면)계란후라이 추가-불닭/짜장</th>\n",
       "      <td>1.000000</td>\n",
       "    </tr>\n",
       "    <tr>\n",
       "      <th>(면)치즈추가</th>\n",
       "      <td>1.000000</td>\n",
       "    </tr>\n",
       "    <tr>\n",
       "      <th>(밥)계란후라이 추가</th>\n",
       "      <td>1.000000</td>\n",
       "    </tr>\n",
       "    <tr>\n",
       "      <th>(밥)슈레드치즈추가</th>\n",
       "      <td>1.000000</td>\n",
       "    </tr>\n",
       "    <tr>\n",
       "      <th>...</th>\n",
       "      <td>...</td>\n",
       "    </tr>\n",
       "    <tr>\n",
       "      <th>한돈간장불고기덮밥</th>\n",
       "      <td>1.000000</td>\n",
       "    </tr>\n",
       "    <tr>\n",
       "      <th>한돈고추장불고기덮밥</th>\n",
       "      <td>1.000000</td>\n",
       "    </tr>\n",
       "    <tr>\n",
       "      <th>허니밀크쉐이크</th>\n",
       "      <td>0.909091</td>\n",
       "    </tr>\n",
       "    <tr>\n",
       "      <th>헤이즐넛라떼(HOT)</th>\n",
       "      <td>1.000000</td>\n",
       "    </tr>\n",
       "    <tr>\n",
       "      <th>헤이즐넛라떼(ICE)</th>\n",
       "      <td>0.875000</td>\n",
       "    </tr>\n",
       "  </tbody>\n",
       "</table>\n",
       "<p>100 rows × 1 columns</p>\n",
       "</div>"
      ],
      "text/plain": [
       "                       판매수량\n",
       "상품명                        \n",
       "(면)계란추가-국물라면       1.000000\n",
       "(면)계란후라이 추가-불닭/짜장  1.000000\n",
       "(면)치즈추가            1.000000\n",
       "(밥)계란후라이 추가        1.000000\n",
       "(밥)슈레드치즈추가         1.000000\n",
       "...                     ...\n",
       "한돈간장불고기덮밥          1.000000\n",
       "한돈고추장불고기덮밥         1.000000\n",
       "허니밀크쉐이크            0.909091\n",
       "헤이즐넛라떼(HOT)        1.000000\n",
       "헤이즐넛라떼(ICE)        0.875000\n",
       "\n",
       "[100 rows x 1 columns]"
      ]
     },
     "execution_count": 14,
     "metadata": {},
     "output_type": "execute_result"
    }
   ],
   "source": [
    "bs.groupby('상품명').mean()"
   ]
  },
  {
   "cell_type": "code",
   "execution_count": 15,
   "id": "81de54a2",
   "metadata": {},
   "outputs": [
    {
     "data": {
      "text/html": [
       "<div>\n",
       "<style scoped>\n",
       "    .dataframe tbody tr th:only-of-type {\n",
       "        vertical-align: middle;\n",
       "    }\n",
       "\n",
       "    .dataframe tbody tr th {\n",
       "        vertical-align: top;\n",
       "    }\n",
       "\n",
       "    .dataframe thead th {\n",
       "        text-align: right;\n",
       "    }\n",
       "</style>\n",
       "<table border=\"1\" class=\"dataframe\">\n",
       "  <thead>\n",
       "    <tr style=\"text-align: right;\">\n",
       "      <th></th>\n",
       "      <th></th>\n",
       "      <th>판매수량</th>\n",
       "    </tr>\n",
       "    <tr>\n",
       "      <th>상품명</th>\n",
       "      <th>결제금액</th>\n",
       "      <th></th>\n",
       "    </tr>\n",
       "  </thead>\n",
       "  <tbody>\n",
       "    <tr>\n",
       "      <th>(면)계란추가-국물라면</th>\n",
       "      <th>500</th>\n",
       "      <td>1.0</td>\n",
       "    </tr>\n",
       "    <tr>\n",
       "      <th>(면)계란후라이 추가-불닭/짜장</th>\n",
       "      <th>1,000</th>\n",
       "      <td>1.0</td>\n",
       "    </tr>\n",
       "    <tr>\n",
       "      <th>(면)치즈추가</th>\n",
       "      <th>500</th>\n",
       "      <td>1.0</td>\n",
       "    </tr>\n",
       "    <tr>\n",
       "      <th>(밥)계란후라이 추가</th>\n",
       "      <th>1,000</th>\n",
       "      <td>1.0</td>\n",
       "    </tr>\n",
       "    <tr>\n",
       "      <th>(밥)슈레드치즈추가</th>\n",
       "      <th>1,500</th>\n",
       "      <td>1.0</td>\n",
       "    </tr>\n",
       "    <tr>\n",
       "      <th>...</th>\n",
       "      <th>...</th>\n",
       "      <td>...</td>\n",
       "    </tr>\n",
       "    <tr>\n",
       "      <th>헤이즐넛라떼(HOT)</th>\n",
       "      <th>4,500</th>\n",
       "      <td>1.0</td>\n",
       "    </tr>\n",
       "    <tr>\n",
       "      <th rowspan=\"4\" valign=\"top\">헤이즐넛라떼(ICE)</th>\n",
       "      <th>-5,000</th>\n",
       "      <td>-1.0</td>\n",
       "    </tr>\n",
       "    <tr>\n",
       "      <th>0</th>\n",
       "      <td>1.0</td>\n",
       "    </tr>\n",
       "    <tr>\n",
       "      <th>2,500</th>\n",
       "      <td>1.0</td>\n",
       "    </tr>\n",
       "    <tr>\n",
       "      <th>5,000</th>\n",
       "      <td>1.0</td>\n",
       "    </tr>\n",
       "  </tbody>\n",
       "</table>\n",
       "<p>256 rows × 1 columns</p>\n",
       "</div>"
      ],
      "text/plain": [
       "                          판매수량\n",
       "상품명               결제금액        \n",
       "(면)계란추가-국물라면      500      1.0\n",
       "(면)계란후라이 추가-불닭/짜장 1,000    1.0\n",
       "(면)치즈추가           500      1.0\n",
       "(밥)계란후라이 추가       1,000    1.0\n",
       "(밥)슈레드치즈추가        1,500    1.0\n",
       "...                        ...\n",
       "헤이즐넛라떼(HOT)       4,500    1.0\n",
       "헤이즐넛라떼(ICE)       -5,000  -1.0\n",
       "                  0        1.0\n",
       "                  2,500    1.0\n",
       "                  5,000    1.0\n",
       "\n",
       "[256 rows x 1 columns]"
      ]
     },
     "execution_count": 15,
     "metadata": {},
     "output_type": "execute_result"
    }
   ],
   "source": [
    "bs.groupby(['상품명','결제금액']).mean()"
   ]
  },
  {
   "cell_type": "code",
   "execution_count": 16,
   "id": "cfb7be88",
   "metadata": {},
   "outputs": [],
   "source": [
    "temp_bs=sales_data.append(sales_data)"
   ]
  },
  {
   "cell_type": "code",
   "execution_count": 17,
   "id": "795f310a",
   "metadata": {},
   "outputs": [
    {
     "data": {
      "text/html": [
       "<div>\n",
       "<style scoped>\n",
       "    .dataframe tbody tr th:only-of-type {\n",
       "        vertical-align: middle;\n",
       "    }\n",
       "\n",
       "    .dataframe tbody tr th {\n",
       "        vertical-align: top;\n",
       "    }\n",
       "\n",
       "    .dataframe thead th {\n",
       "        text-align: right;\n",
       "    }\n",
       "</style>\n",
       "<table border=\"1\" class=\"dataframe\">\n",
       "  <thead>\n",
       "    <tr style=\"text-align: right;\">\n",
       "      <th></th>\n",
       "      <th>결제일시</th>\n",
       "      <th>판매위치</th>\n",
       "      <th>상품명</th>\n",
       "      <th>결제방식</th>\n",
       "      <th>판매수량</th>\n",
       "      <th>고객</th>\n",
       "      <th>결제금액</th>\n",
       "    </tr>\n",
       "  </thead>\n",
       "  <tbody>\n",
       "    <tr>\n",
       "      <th>0</th>\n",
       "      <td>2022-04-01 19:41</td>\n",
       "      <td>선불기1</td>\n",
       "      <td>치킨카라아케 6pc</td>\n",
       "      <td>신용카드</td>\n",
       "      <td>1</td>\n",
       "      <td>customer275507</td>\n",
       "      <td>4,500</td>\n",
       "    </tr>\n",
       "    <tr>\n",
       "      <th>1</th>\n",
       "      <td>2022-04-01 19:41</td>\n",
       "      <td>선불기1</td>\n",
       "      <td>짜장라면(계란추가)</td>\n",
       "      <td>신용카드</td>\n",
       "      <td>1</td>\n",
       "      <td>customer275507</td>\n",
       "      <td>5,500</td>\n",
       "    </tr>\n",
       "    <tr>\n",
       "      <th>2</th>\n",
       "      <td>2022-04-01 19:41</td>\n",
       "      <td>선불기1</td>\n",
       "      <td>라면</td>\n",
       "      <td>신용카드</td>\n",
       "      <td>1</td>\n",
       "      <td>customer275507</td>\n",
       "      <td>4,000</td>\n",
       "    </tr>\n",
       "    <tr>\n",
       "      <th>3</th>\n",
       "      <td>2022-04-01 19:41</td>\n",
       "      <td>선불기1</td>\n",
       "      <td>비엔나소세지(토핑)</td>\n",
       "      <td>신용카드</td>\n",
       "      <td>1</td>\n",
       "      <td>customer275507</td>\n",
       "      <td>1,000</td>\n",
       "    </tr>\n",
       "    <tr>\n",
       "      <th>4</th>\n",
       "      <td>2022-04-01 19:41</td>\n",
       "      <td>선불기1</td>\n",
       "      <td>라면(계란/치즈추가)</td>\n",
       "      <td>신용카드</td>\n",
       "      <td>1</td>\n",
       "      <td>customer275507</td>\n",
       "      <td>5,000</td>\n",
       "    </tr>\n",
       "    <tr>\n",
       "      <th>...</th>\n",
       "      <td>...</td>\n",
       "      <td>...</td>\n",
       "      <td>...</td>\n",
       "      <td>...</td>\n",
       "      <td>...</td>\n",
       "      <td>...</td>\n",
       "      <td>...</td>\n",
       "    </tr>\n",
       "    <tr>\n",
       "      <th>7100</th>\n",
       "      <td>2021-02-17 14:21</td>\n",
       "      <td>카운터</td>\n",
       "      <td>아메리카노(HOT)</td>\n",
       "      <td>현금</td>\n",
       "      <td>-1</td>\n",
       "      <td>NaN</td>\n",
       "      <td>-3,500</td>\n",
       "    </tr>\n",
       "    <tr>\n",
       "      <th>7101</th>\n",
       "      <td>2021-02-17 13:51</td>\n",
       "      <td>선불기2</td>\n",
       "      <td>카페모카(HOT)</td>\n",
       "      <td>신용카드</td>\n",
       "      <td>1</td>\n",
       "      <td>NaN</td>\n",
       "      <td>4,500</td>\n",
       "    </tr>\n",
       "    <tr>\n",
       "      <th>7102</th>\n",
       "      <td>2021-02-17 13:51</td>\n",
       "      <td>선불기2</td>\n",
       "      <td>카페모카(HOT)</td>\n",
       "      <td>신용카드</td>\n",
       "      <td>-1</td>\n",
       "      <td>NaN</td>\n",
       "      <td>-4,500</td>\n",
       "    </tr>\n",
       "    <tr>\n",
       "      <th>7103</th>\n",
       "      <td>2021-02-17 13:26</td>\n",
       "      <td>카운터</td>\n",
       "      <td>카페라떼(HOT)</td>\n",
       "      <td>신용카드</td>\n",
       "      <td>1</td>\n",
       "      <td>NaN</td>\n",
       "      <td>4,000</td>\n",
       "    </tr>\n",
       "    <tr>\n",
       "      <th>7104</th>\n",
       "      <td>2021-02-17 13:27</td>\n",
       "      <td>카운터</td>\n",
       "      <td>카페라떼(HOT)</td>\n",
       "      <td>신용카드</td>\n",
       "      <td>-1</td>\n",
       "      <td>NaN</td>\n",
       "      <td>-4,000</td>\n",
       "    </tr>\n",
       "  </tbody>\n",
       "</table>\n",
       "<p>7105 rows × 7 columns</p>\n",
       "</div>"
      ],
      "text/plain": [
       "                  결제일시  판매위치          상품명  결제방식  판매수량              고객    결제금액\n",
       "0     2022-04-01 19:41  선불기1   치킨카라아케 6pc  신용카드     1  customer275507   4,500\n",
       "1     2022-04-01 19:41  선불기1   짜장라면(계란추가)  신용카드     1  customer275507   5,500\n",
       "2     2022-04-01 19:41  선불기1           라면  신용카드     1  customer275507   4,000\n",
       "3     2022-04-01 19:41  선불기1   비엔나소세지(토핑)  신용카드     1  customer275507   1,000\n",
       "4     2022-04-01 19:41  선불기1  라면(계란/치즈추가)  신용카드     1  customer275507   5,000\n",
       "...                ...   ...          ...   ...   ...             ...     ...\n",
       "7100  2021-02-17 14:21   카운터   아메리카노(HOT)    현금    -1             NaN  -3,500\n",
       "7101  2021-02-17 13:51  선불기2    카페모카(HOT)  신용카드     1             NaN   4,500\n",
       "7102  2021-02-17 13:51  선불기2    카페모카(HOT)  신용카드    -1             NaN  -4,500\n",
       "7103  2021-02-17 13:26   카운터    카페라떼(HOT)  신용카드     1             NaN   4,000\n",
       "7104  2021-02-17 13:27   카운터    카페라떼(HOT)  신용카드    -1             NaN  -4,000\n",
       "\n",
       "[7105 rows x 7 columns]"
      ]
     },
     "execution_count": 17,
     "metadata": {},
     "output_type": "execute_result"
    }
   ],
   "source": [
    "bs"
   ]
  },
  {
   "cell_type": "code",
   "execution_count": 18,
   "id": "af00637c",
   "metadata": {},
   "outputs": [
    {
     "data": {
      "text/html": [
       "<div>\n",
       "<style scoped>\n",
       "    .dataframe tbody tr th:only-of-type {\n",
       "        vertical-align: middle;\n",
       "    }\n",
       "\n",
       "    .dataframe tbody tr th {\n",
       "        vertical-align: top;\n",
       "    }\n",
       "\n",
       "    .dataframe thead th {\n",
       "        text-align: right;\n",
       "    }\n",
       "</style>\n",
       "<table border=\"1\" class=\"dataframe\">\n",
       "  <thead>\n",
       "    <tr style=\"text-align: right;\">\n",
       "      <th></th>\n",
       "      <th>결제일시</th>\n",
       "      <th>판매위치</th>\n",
       "      <th>상품명</th>\n",
       "      <th>결제방식</th>\n",
       "      <th>비고</th>\n",
       "      <th>판매수량</th>\n",
       "      <th>결제금액</th>\n",
       "      <th>고객</th>\n",
       "    </tr>\n",
       "  </thead>\n",
       "  <tbody>\n",
       "    <tr>\n",
       "      <th>0</th>\n",
       "      <td>2022-04-01 19:41</td>\n",
       "      <td>선불기1</td>\n",
       "      <td>치킨카라아케 6pc</td>\n",
       "      <td>신용카드</td>\n",
       "      <td>결제완료</td>\n",
       "      <td>1</td>\n",
       "      <td>4,500</td>\n",
       "      <td>customer275507</td>\n",
       "    </tr>\n",
       "    <tr>\n",
       "      <th>1</th>\n",
       "      <td>2022-04-01 19:41</td>\n",
       "      <td>선불기1</td>\n",
       "      <td>짜장라면(계란추가)</td>\n",
       "      <td>신용카드</td>\n",
       "      <td>결제완료</td>\n",
       "      <td>1</td>\n",
       "      <td>5,500</td>\n",
       "      <td>customer275507</td>\n",
       "    </tr>\n",
       "    <tr>\n",
       "      <th>2</th>\n",
       "      <td>2022-04-01 19:41</td>\n",
       "      <td>선불기1</td>\n",
       "      <td>라면</td>\n",
       "      <td>신용카드</td>\n",
       "      <td>결제완료</td>\n",
       "      <td>1</td>\n",
       "      <td>4,000</td>\n",
       "      <td>customer275507</td>\n",
       "    </tr>\n",
       "    <tr>\n",
       "      <th>3</th>\n",
       "      <td>2022-04-01 19:41</td>\n",
       "      <td>선불기1</td>\n",
       "      <td>비엔나소세지(토핑)</td>\n",
       "      <td>신용카드</td>\n",
       "      <td>결제완료</td>\n",
       "      <td>1</td>\n",
       "      <td>1,000</td>\n",
       "      <td>customer275507</td>\n",
       "    </tr>\n",
       "    <tr>\n",
       "      <th>4</th>\n",
       "      <td>2022-04-01 19:41</td>\n",
       "      <td>선불기1</td>\n",
       "      <td>라면(계란/치즈추가)</td>\n",
       "      <td>신용카드</td>\n",
       "      <td>결제완료</td>\n",
       "      <td>1</td>\n",
       "      <td>5,000</td>\n",
       "      <td>customer275507</td>\n",
       "    </tr>\n",
       "    <tr>\n",
       "      <th>...</th>\n",
       "      <td>...</td>\n",
       "      <td>...</td>\n",
       "      <td>...</td>\n",
       "      <td>...</td>\n",
       "      <td>...</td>\n",
       "      <td>...</td>\n",
       "      <td>...</td>\n",
       "      <td>...</td>\n",
       "    </tr>\n",
       "    <tr>\n",
       "      <th>7100</th>\n",
       "      <td>2021-02-17 14:21</td>\n",
       "      <td>카운터</td>\n",
       "      <td>아메리카노(HOT)</td>\n",
       "      <td>현금</td>\n",
       "      <td>결제취소</td>\n",
       "      <td>-1</td>\n",
       "      <td>-3,500</td>\n",
       "      <td>NaN</td>\n",
       "    </tr>\n",
       "    <tr>\n",
       "      <th>7101</th>\n",
       "      <td>2021-02-17 13:51</td>\n",
       "      <td>선불기2</td>\n",
       "      <td>카페모카(HOT)</td>\n",
       "      <td>신용카드</td>\n",
       "      <td>결제완료</td>\n",
       "      <td>1</td>\n",
       "      <td>4,500</td>\n",
       "      <td>NaN</td>\n",
       "    </tr>\n",
       "    <tr>\n",
       "      <th>7102</th>\n",
       "      <td>2021-02-17 13:51</td>\n",
       "      <td>선불기2</td>\n",
       "      <td>카페모카(HOT)</td>\n",
       "      <td>신용카드</td>\n",
       "      <td>판매취소</td>\n",
       "      <td>-1</td>\n",
       "      <td>-4,500</td>\n",
       "      <td>NaN</td>\n",
       "    </tr>\n",
       "    <tr>\n",
       "      <th>7103</th>\n",
       "      <td>2021-02-17 13:26</td>\n",
       "      <td>카운터</td>\n",
       "      <td>카페라떼(HOT)</td>\n",
       "      <td>신용카드</td>\n",
       "      <td>결제완료</td>\n",
       "      <td>1</td>\n",
       "      <td>4,000</td>\n",
       "      <td>NaN</td>\n",
       "    </tr>\n",
       "    <tr>\n",
       "      <th>7104</th>\n",
       "      <td>2021-02-17 13:27</td>\n",
       "      <td>카운터</td>\n",
       "      <td>카페라떼(HOT)</td>\n",
       "      <td>신용카드</td>\n",
       "      <td>판매취소</td>\n",
       "      <td>-1</td>\n",
       "      <td>-4,000</td>\n",
       "      <td>NaN</td>\n",
       "    </tr>\n",
       "  </tbody>\n",
       "</table>\n",
       "<p>14210 rows × 8 columns</p>\n",
       "</div>"
      ],
      "text/plain": [
       "                  결제일시  판매위치          상품명  결제방식    비고  판매수량    결제금액  \\\n",
       "0     2022-04-01 19:41  선불기1   치킨카라아케 6pc  신용카드  결제완료     1   4,500   \n",
       "1     2022-04-01 19:41  선불기1   짜장라면(계란추가)  신용카드  결제완료     1   5,500   \n",
       "2     2022-04-01 19:41  선불기1           라면  신용카드  결제완료     1   4,000   \n",
       "3     2022-04-01 19:41  선불기1   비엔나소세지(토핑)  신용카드  결제완료     1   1,000   \n",
       "4     2022-04-01 19:41  선불기1  라면(계란/치즈추가)  신용카드  결제완료     1   5,000   \n",
       "...                ...   ...          ...   ...   ...   ...     ...   \n",
       "7100  2021-02-17 14:21   카운터   아메리카노(HOT)    현금  결제취소    -1  -3,500   \n",
       "7101  2021-02-17 13:51  선불기2    카페모카(HOT)  신용카드  결제완료     1   4,500   \n",
       "7102  2021-02-17 13:51  선불기2    카페모카(HOT)  신용카드  판매취소    -1  -4,500   \n",
       "7103  2021-02-17 13:26   카운터    카페라떼(HOT)  신용카드  결제완료     1   4,000   \n",
       "7104  2021-02-17 13:27   카운터    카페라떼(HOT)  신용카드  판매취소    -1  -4,000   \n",
       "\n",
       "                  고객  \n",
       "0     customer275507  \n",
       "1     customer275507  \n",
       "2     customer275507  \n",
       "3     customer275507  \n",
       "4     customer275507  \n",
       "...              ...  \n",
       "7100             NaN  \n",
       "7101             NaN  \n",
       "7102             NaN  \n",
       "7103             NaN  \n",
       "7104             NaN  \n",
       "\n",
       "[14210 rows x 8 columns]"
      ]
     },
     "execution_count": 18,
     "metadata": {},
     "output_type": "execute_result"
    }
   ],
   "source": [
    "temp_bs"
   ]
  },
  {
   "cell_type": "code",
   "execution_count": 19,
   "id": "fb01d418",
   "metadata": {},
   "outputs": [
    {
     "data": {
      "text/plain": [
       "(6671, 8)"
      ]
     },
     "execution_count": 19,
     "metadata": {},
     "output_type": "execute_result"
    }
   ],
   "source": [
    "temp_bs=temp_bs.drop_duplicates()\n",
    "temp_bs.shape"
   ]
  },
  {
   "cell_type": "code",
   "execution_count": 20,
   "id": "1c1d4771",
   "metadata": {},
   "outputs": [
    {
     "data": {
      "text/plain": [
       "<bound method DataFrame.info of                   결제일시  판매위치          상품명  결제방식  판매수량              고객    결제금액\n",
       "0     2022-04-01 19:41  선불기1   치킨카라아케 6pc  신용카드     1  customer275507   4,500\n",
       "1     2022-04-01 19:41  선불기1   짜장라면(계란추가)  신용카드     1  customer275507   5,500\n",
       "2     2022-04-01 19:41  선불기1           라면  신용카드     1  customer275507   4,000\n",
       "3     2022-04-01 19:41  선불기1   비엔나소세지(토핑)  신용카드     1  customer275507   1,000\n",
       "4     2022-04-01 19:41  선불기1  라면(계란/치즈추가)  신용카드     1  customer275507   5,000\n",
       "...                ...   ...          ...   ...   ...             ...     ...\n",
       "7100  2021-02-17 14:21   카운터   아메리카노(HOT)    현금    -1             NaN  -3,500\n",
       "7101  2021-02-17 13:51  선불기2    카페모카(HOT)  신용카드     1             NaN   4,500\n",
       "7102  2021-02-17 13:51  선불기2    카페모카(HOT)  신용카드    -1             NaN  -4,500\n",
       "7103  2021-02-17 13:26   카운터    카페라떼(HOT)  신용카드     1             NaN   4,000\n",
       "7104  2021-02-17 13:27   카운터    카페라떼(HOT)  신용카드    -1             NaN  -4,000\n",
       "\n",
       "[7105 rows x 7 columns]>"
      ]
     },
     "execution_count": 20,
     "metadata": {},
     "output_type": "execute_result"
    }
   ],
   "source": [
    "bs.info"
   ]
  },
  {
   "cell_type": "code",
   "execution_count": 21,
   "id": "a77a4e80",
   "metadata": {},
   "outputs": [
    {
     "data": {
      "text/plain": [
       "6785"
      ]
     },
     "execution_count": 21,
     "metadata": {},
     "output_type": "execute_result"
    }
   ],
   "source": [
    "bs['판매수량'].sum()"
   ]
  },
  {
   "cell_type": "code",
   "execution_count": 22,
   "id": "fbb741b8",
   "metadata": {
    "scrolled": true
   },
   "outputs": [
    {
     "name": "stderr",
     "output_type": "stream",
     "text": [
      "/opt/conda/lib/python3.9/site-packages/matplotlib/backends/backend_agg.py:240: RuntimeWarning: Glyph 49888 missing from current font.\n",
      "  font.set_text(s, 0.0, flags=flags)\n",
      "/opt/conda/lib/python3.9/site-packages/matplotlib/backends/backend_agg.py:240: RuntimeWarning: Glyph 50857 missing from current font.\n",
      "  font.set_text(s, 0.0, flags=flags)\n",
      "/opt/conda/lib/python3.9/site-packages/matplotlib/backends/backend_agg.py:240: RuntimeWarning: Glyph 52852 missing from current font.\n",
      "  font.set_text(s, 0.0, flags=flags)\n",
      "/opt/conda/lib/python3.9/site-packages/matplotlib/backends/backend_agg.py:240: RuntimeWarning: Glyph 46300 missing from current font.\n",
      "  font.set_text(s, 0.0, flags=flags)\n",
      "/opt/conda/lib/python3.9/site-packages/matplotlib/backends/backend_agg.py:240: RuntimeWarning: Glyph 54788 missing from current font.\n",
      "  font.set_text(s, 0.0, flags=flags)\n",
      "/opt/conda/lib/python3.9/site-packages/matplotlib/backends/backend_agg.py:240: RuntimeWarning: Glyph 44552 missing from current font.\n",
      "  font.set_text(s, 0.0, flags=flags)\n",
      "/opt/conda/lib/python3.9/site-packages/matplotlib/backends/backend_agg.py:203: RuntimeWarning: Glyph 49888 missing from current font.\n",
      "  font.set_text(s, 0, flags=flags)\n",
      "/opt/conda/lib/python3.9/site-packages/matplotlib/backends/backend_agg.py:203: RuntimeWarning: Glyph 50857 missing from current font.\n",
      "  font.set_text(s, 0, flags=flags)\n",
      "/opt/conda/lib/python3.9/site-packages/matplotlib/backends/backend_agg.py:203: RuntimeWarning: Glyph 52852 missing from current font.\n",
      "  font.set_text(s, 0, flags=flags)\n",
      "/opt/conda/lib/python3.9/site-packages/matplotlib/backends/backend_agg.py:203: RuntimeWarning: Glyph 46300 missing from current font.\n",
      "  font.set_text(s, 0, flags=flags)\n",
      "/opt/conda/lib/python3.9/site-packages/matplotlib/backends/backend_agg.py:203: RuntimeWarning: Glyph 54788 missing from current font.\n",
      "  font.set_text(s, 0, flags=flags)\n",
      "/opt/conda/lib/python3.9/site-packages/matplotlib/backends/backend_agg.py:203: RuntimeWarning: Glyph 44552 missing from current font.\n",
      "  font.set_text(s, 0, flags=flags)\n"
     ]
    },
    {
     "data": {
      "image/png": "[encoded data removed]",
      "text/plain": [
       "<Figure size 640x480 with 1 Axes>"
      ]
     },
     "metadata": {},
     "output_type": "display_data"
    }
   ],
   "source": [
    "plt.hist(bs['결제방식'])\n",
    "plt.title('신용카드')\n",
    "plt.show()"
   ]
  },
  {
   "cell_type": "code",
   "execution_count": 23,
   "id": "041b1bea",
   "metadata": {
    "scrolled": true
   },
   "outputs": [
    {
     "data": {
      "text/plain": [
       "Index(['결제일시', '판매위치', '상품명', '결제방식', '판매수량', '고객', '결제금액'], dtype='object')"
      ]
     },
     "execution_count": 23,
     "metadata": {},
     "output_type": "execute_result"
    }
   ],
   "source": [
    "bs.columns"
   ]
  },
  {
   "cell_type": "code",
   "execution_count": 24,
   "id": "513ee9e7",
   "metadata": {},
   "outputs": [],
   "source": [
    "sales_data=pd.read_csv('/aiffel/data/sales_data.csv')\n",
    "entry_data=pd.read_csv('/aiffel/data/entry_data.csv')\n",
    "item_data=pd.read_csv('/aiffel/data/item_data.csv')\n",
    "item_entry_data=pd.read_csv('/aiffel/data/item_entry_data.csv')"
   ]
  },
  {
   "cell_type": "code",
   "execution_count": 25,
   "id": "1cee7a60",
   "metadata": {},
   "outputs": [],
   "source": [
    "temp_var=bs"
   ]
  },
  {
   "cell_type": "code",
   "execution_count": 26,
   "id": "16809ca7",
   "metadata": {},
   "outputs": [],
   "source": [
    "temp_var['date']=bs['결제방식'].str[:7]"
   ]
  },
  {
   "cell_type": "code",
   "execution_count": 27,
   "id": "4f398adb",
   "metadata": {},
   "outputs": [],
   "source": [
    "bs['결제금액']=bs['결제금액'].str.replace(',','')"
   ]
  },
  {
   "cell_type": "code",
   "execution_count": 28,
   "id": "41afbe8f",
   "metadata": {},
   "outputs": [],
   "source": [
    "sales_data['결제금액'] = sales_data['결제금액'].str.replace(',','')"
   ]
  },
  {
   "cell_type": "code",
   "execution_count": 29,
   "id": "ac93d6ee",
   "metadata": {
    "scrolled": false
   },
   "outputs": [],
   "source": [
    "temp_var['payment'] = bs['결제금액'].astype(int)"
   ]
  },
  {
   "cell_type": "code",
   "execution_count": 38,
   "id": "0924f27c",
   "metadata": {},
   "outputs": [
    {
     "ename": "NameError",
     "evalue": "name 'date_data' is not defined",
     "output_type": "error",
     "traceback": [
      "\u001b[0;31m---------------------------------------------------------------------------\u001b[0m",
      "\u001b[0;31mNameError\u001b[0m                                 Traceback (most recent call last)",
      "\u001b[0;32m/tmp/ipykernel_60/4020964670.py\u001b[0m in \u001b[0;36m<module>\u001b[0;34m\u001b[0m\n\u001b[0;32m----> 1\u001b[0;31m \u001b[0mtype\u001b[0m\u001b[0;34m(\u001b[0m\u001b[0mdate_data\u001b[0m\u001b[0;34m)\u001b[0m\u001b[0;34m\u001b[0m\u001b[0;34m\u001b[0m\u001b[0m\n\u001b[0m",
      "\u001b[0;31mNameError\u001b[0m: name 'date_data' is not defined"
     ]
    }
   ],
   "source": []
  },
  {
   "cell_type": "code",
   "execution_count": 34,
   "id": "eae2f4b5",
   "metadata": {
    "scrolled": true
   },
   "outputs": [
    {
     "data": {
      "text/plain": [
       "date\n",
       "신용카드    26541500\n",
       "현금       1196400\n",
       "Name: payment, dtype: int64"
      ]
     },
     "execution_count": 34,
     "metadata": {},
     "output_type": "execute_result"
    }
   ],
   "source": [
    "payment_data = temp_var['payment'].groupby(temp_var['date']).sum()\n",
    "payment_data"
   ]
  },
  {
   "cell_type": "code",
   "execution_count": 33,
   "id": "ca49a3ac",
   "metadata": {
    "scrolled": true
   },
   "outputs": [
    {
     "data": {
      "image/png": "[encoded data removed]",
      "text/plain": [
       "<Figure size 640x480 with 1 Axes>"
      ]
     },
     "metadata": {},
     "output_type": "display_data"
    }
   ],
   "source": [
    "ax = payment_data.plot(kind='bar')\n",
    "\n",
    "plt.title('Sales By Months')\n",
    "plt.xlabel('Month')\n",
    "plt.ylabel('Sales')\n",
    "plt.show()"
   ]
  },
  {
   "cell_type": "code",
   "execution_count": 35,
   "id": "b1fe1c9e",
   "metadata": {
    "scrolled": true
   },
   "outputs": [
    {
     "data": {
      "text/plain": [
       "<bound method DataFrame.value_counts of                   결제일시  판매위치          상품명  결제방식  판매수량              고객  결제금액  \\\n",
       "0     2022-04-01 19:41  선불기1   치킨카라아케 6pc  신용카드     1  customer275507  4500   \n",
       "1     2022-04-01 19:41  선불기1   짜장라면(계란추가)  신용카드     1  customer275507  5500   \n",
       "2     2022-04-01 19:41  선불기1           라면  신용카드     1  customer275507  4000   \n",
       "3     2022-04-01 19:41  선불기1   비엔나소세지(토핑)  신용카드     1  customer275507  1000   \n",
       "4     2022-04-01 19:41  선불기1  라면(계란/치즈추가)  신용카드     1  customer275507  5000   \n",
       "...                ...   ...          ...   ...   ...             ...   ...   \n",
       "7097  2021-02-17 13:48  선불기2    카페모카(HOT)    현금     1             NaN  4500   \n",
       "7098  2021-02-17 13:50  선불기2    카페모카(HOT)    현금     1             NaN  4500   \n",
       "7099  2021-02-17 13:46   카운터   아메리카노(HOT)    현금     1             NaN  3500   \n",
       "7101  2021-02-17 13:51  선불기2    카페모카(HOT)  신용카드     1             NaN  4500   \n",
       "7103  2021-02-17 13:26   카운터    카페라떼(HOT)  신용카드     1             NaN  4000   \n",
       "\n",
       "      date  payment  \n",
       "0     신용카드     4500  \n",
       "1     신용카드     5500  \n",
       "2     신용카드     4000  \n",
       "3     신용카드     1000  \n",
       "4     신용카드     5000  \n",
       "...    ...      ...  \n",
       "7097    현금     4500  \n",
       "7098    현금     4500  \n",
       "7099    현금     3500  \n",
       "7101  신용카드     4500  \n",
       "7103  신용카드     4000  \n",
       "\n",
       "[6945 rows x 9 columns]>"
      ]
     },
     "execution_count": 35,
     "metadata": {},
     "output_type": "execute_result"
    }
   ],
   "source": [
    "items_count=temp_var[temp_var['판매수량']!=-1].value_counts\n",
    "items_count"
   ]
  },
  {
   "cell_type": "code",
   "execution_count": 39,
   "id": "ba4263d9",
   "metadata": {},
   "outputs": [
    {
     "ename": "ValueError",
     "evalue": "DataFrame constructor not properly called!",
     "output_type": "error",
     "traceback": [
      "\u001b[0;31m---------------------------------------------------------------------------\u001b[0m",
      "\u001b[0;31mValueError\u001b[0m                                Traceback (most recent call last)",
      "\u001b[0;32m/tmp/ipykernel_60/1248646070.py\u001b[0m in \u001b[0;36m<module>\u001b[0;34m\u001b[0m\n\u001b[0;32m----> 1\u001b[0;31m \u001b[0mitems_count\u001b[0m \u001b[0;34m=\u001b[0m \u001b[0mpd\u001b[0m\u001b[0;34m.\u001b[0m\u001b[0mDataFrame\u001b[0m\u001b[0;34m(\u001b[0m\u001b[0mitems_count\u001b[0m\u001b[0;34m)\u001b[0m\u001b[0;34m\u001b[0m\u001b[0;34m\u001b[0m\u001b[0m\n\u001b[0m\u001b[1;32m      2\u001b[0m \u001b[0mitems_count\u001b[0m\u001b[0;34m[\u001b[0m\u001b[0;34m:\u001b[0m\u001b[0;36m10\u001b[0m\u001b[0;34m]\u001b[0m\u001b[0;34m\u001b[0m\u001b[0;34m\u001b[0m\u001b[0m\n",
      "\u001b[0;32m/opt/conda/lib/python3.9/site-packages/pandas/core/frame.py\u001b[0m in \u001b[0;36m__init__\u001b[0;34m(self, data, index, columns, dtype, copy)\u001b[0m\n\u001b[1;32m    728\u001b[0m         \u001b[0;32melse\u001b[0m\u001b[0;34m:\u001b[0m\u001b[0;34m\u001b[0m\u001b[0;34m\u001b[0m\u001b[0m\n\u001b[1;32m    729\u001b[0m             \u001b[0;32mif\u001b[0m \u001b[0mindex\u001b[0m \u001b[0;32mis\u001b[0m \u001b[0;32mNone\u001b[0m \u001b[0;32mor\u001b[0m \u001b[0mcolumns\u001b[0m \u001b[0;32mis\u001b[0m \u001b[0;32mNone\u001b[0m\u001b[0;34m:\u001b[0m\u001b[0;34m\u001b[0m\u001b[0;34m\u001b[0m\u001b[0m\n\u001b[0;32m--> 730\u001b[0;31m                 \u001b[0;32mraise\u001b[0m \u001b[0mValueError\u001b[0m\u001b[0;34m(\u001b[0m\u001b[0;34m\"DataFrame constructor not properly called!\"\u001b[0m\u001b[0;34m)\u001b[0m\u001b[0;34m\u001b[0m\u001b[0;34m\u001b[0m\u001b[0m\n\u001b[0m\u001b[1;32m    731\u001b[0m \u001b[0;34m\u001b[0m\u001b[0m\n\u001b[1;32m    732\u001b[0m             \u001b[0;31m# Argument 1 to \"ensure_index\" has incompatible type \"Collection[Any]\";\u001b[0m\u001b[0;34m\u001b[0m\u001b[0;34m\u001b[0m\u001b[0m\n",
      "\u001b[0;31mValueError\u001b[0m: DataFrame constructor not properly called!"
     ]
    }
   ],
   "source": [
    "items_count = pd.DataFrame(items_count)\n",
    "items_count[:10]"
   ]
  },
  {
   "cell_type": "code",
   "execution_count": 40,
   "id": "afff40af",
   "metadata": {},
   "outputs": [
    {
     "name": "stdout",
     "output_type": "stream",
     "text": [
      "완료!\n"
     ]
    }
   ],
   "source": [
    "import matplotlib as mpl\n",
    "import matplotlib.pyplot as plt\n",
    "import matplotlib.font_manager as fm\n",
    "fontpath = '/usr/share/fonts/truetype/nanum/NanumBarunGothic.ttf'\n",
    "font = fm.FontProperties(fname=fontpath, size=9)\n",
    "plt.rc('font', family='NanumBarunGothic') \n",
    "mpl.font_manager.findfont(font)\n",
    "print(\"완료!\")"
   ]
  },
  {
   "cell_type": "code",
   "execution_count": 41,
   "id": "b471038f",
   "metadata": {},
   "outputs": [
    {
     "ename": "TypeError",
     "evalue": "'method' object is not subscriptable",
     "output_type": "error",
     "traceback": [
      "\u001b[0;31m---------------------------------------------------------------------------\u001b[0m",
      "\u001b[0;31mTypeError\u001b[0m                                 Traceback (most recent call last)",
      "\u001b[0;32m/tmp/ipykernel_60/3554139385.py\u001b[0m in \u001b[0;36m<module>\u001b[0;34m\u001b[0m\n\u001b[0;32m----> 1\u001b[0;31m \u001b[0mitems_count\u001b[0m\u001b[0;34m[\u001b[0m\u001b[0;34m:\u001b[0m\u001b[0;36m10\u001b[0m\u001b[0;34m]\u001b[0m\u001b[0;34m.\u001b[0m\u001b[0mplot\u001b[0m\u001b[0;34m(\u001b[0m\u001b[0mkind\u001b[0m\u001b[0;34m=\u001b[0m\u001b[0;34m'bar'\u001b[0m\u001b[0;34m)\u001b[0m\u001b[0;34m\u001b[0m\u001b[0;34m\u001b[0m\u001b[0m\n\u001b[0m\u001b[1;32m      2\u001b[0m \u001b[0mplt\u001b[0m\u001b[0;34m.\u001b[0m\u001b[0mylabel\u001b[0m\u001b[0;34m(\u001b[0m\u001b[0;34m'개'\u001b[0m\u001b[0;34m)\u001b[0m\u001b[0;34m\u001b[0m\u001b[0;34m\u001b[0m\u001b[0m\n\u001b[1;32m      3\u001b[0m \u001b[0mplt\u001b[0m\u001b[0;34m.\u001b[0m\u001b[0mtitle\u001b[0m\u001b[0;34m(\u001b[0m\u001b[0;34m'판매 개수'\u001b[0m\u001b[0;34m)\u001b[0m\u001b[0;34m\u001b[0m\u001b[0;34m\u001b[0m\u001b[0m\n\u001b[1;32m      4\u001b[0m \u001b[0mplt\u001b[0m\u001b[0;34m.\u001b[0m\u001b[0mshow\u001b[0m\u001b[0;34m(\u001b[0m\u001b[0;34m)\u001b[0m\u001b[0;34m\u001b[0m\u001b[0;34m\u001b[0m\u001b[0m\n",
      "\u001b[0;31mTypeError\u001b[0m: 'method' object is not subscriptable"
     ]
    }
   ],
   "source": [
    "items_count[:10].plot(kind='bar')\n",
    "plt.ylabel('개')\n",
    "plt.title('판매 개수')\n",
    "plt.show()"
   ]
  },
  {
   "cell_type": "code",
   "execution_count": 42,
   "id": "34105bbf",
   "metadata": {},
   "outputs": [
    {
     "data": {
      "text/plain": [
       "상품명\n",
       "(면)계란추가-국물라면           5000\n",
       "(면)계란후라이 추가-불닭/짜장     20000\n",
       "(면)치즈추가               10500\n",
       "(밥)계란후라이 추가            3000\n",
       "(밥)슈레드치즈추가             4500\n",
       "                      ...  \n",
       "한돈간장불고기덮밥            112500\n",
       "한돈고추장불고기덮밥           127500\n",
       "허니밀크쉐이크              114000\n",
       "헤이즐넛라떼(HOT)            9000\n",
       "헤이즐넛라떼(ICE)           67500\n",
       "Name: payment, Length: 100, dtype: int64"
      ]
     },
     "execution_count": 42,
     "metadata": {},
     "output_type": "execute_result"
    }
   ],
   "source": [
    "items_payment = temp_var['payment'].groupby(temp_var['상품명'][temp_var['판매수량']!=-1]).sum()\n",
    "items_payment"
   ]
  },
  {
   "cell_type": "code",
   "execution_count": 43,
   "id": "335ecf57",
   "metadata": {},
   "outputs": [
    {
     "data": {
      "text/plain": [
       "상품명\n",
       "김치볶음밥         6004400\n",
       "라면            2941500\n",
       "치즈불고기볶음밥      2292600\n",
       "짜장라면          2038500\n",
       "낙지볶음밥         1710700\n",
       "새우볶음밥         1539800\n",
       "치즈감자튀김        1354200\n",
       "감자튀김          1083800\n",
       "아메리카노(ICE)    1058100\n",
       "불닭볶음면          693000\n",
       "Name: payment, dtype: int64"
      ]
     },
     "execution_count": 43,
     "metadata": {},
     "output_type": "execute_result"
    }
   ],
   "source": [
    "items_payment = items_payment.sort_values(ascending=False)\n",
    "items_payment[:10]"
   ]
  },
  {
   "cell_type": "code",
   "execution_count": 44,
   "id": "1b8f54ae",
   "metadata": {},
   "outputs": [
    {
     "data": {
      "image/png": "[encoded data removed]",
      "text/plain": [
       "<Figure size 640x480 with 1 Axes>"
      ]
     },
     "metadata": {},
     "output_type": "display_data"
    }
   ],
   "source": [
    "items_payment[:10].plot(kind='bar')\n",
    "plt.ylabel('원')\n",
    "plt.title('판매 금액')\n",
    "plt.show()"
   ]
  },
  {
   "cell_type": "code",
   "execution_count": 45,
   "id": "37c91a04",
   "metadata": {},
   "outputs": [
    {
     "data": {
      "text/html": [
       "<div>\n",
       "<style scoped>\n",
       "    .dataframe tbody tr th:only-of-type {\n",
       "        vertical-align: middle;\n",
       "    }\n",
       "\n",
       "    .dataframe tbody tr th {\n",
       "        vertical-align: top;\n",
       "    }\n",
       "\n",
       "    .dataframe thead th {\n",
       "        text-align: right;\n",
       "    }\n",
       "</style>\n",
       "<table border=\"1\" class=\"dataframe\">\n",
       "  <thead>\n",
       "    <tr style=\"text-align: right;\">\n",
       "      <th></th>\n",
       "      <th>요금제명</th>\n",
       "      <th>입실</th>\n",
       "      <th>퇴실</th>\n",
       "      <th>이용</th>\n",
       "      <th>위치</th>\n",
       "      <th>금액</th>\n",
       "      <th>구분</th>\n",
       "      <th>고객</th>\n",
       "    </tr>\n",
       "  </thead>\n",
       "  <tbody>\n",
       "    <tr>\n",
       "      <th>0</th>\n",
       "      <td>시간요금제(1시간)</td>\n",
       "      <td>2022-04-01 23:39</td>\n",
       "      <td>2022-04-02 0:39</td>\n",
       "      <td>오전 1:00:00</td>\n",
       "      <td>선불기2</td>\n",
       "      <td>3000</td>\n",
       "      <td>퇴실</td>\n",
       "      <td>customer263717</td>\n",
       "    </tr>\n",
       "    <tr>\n",
       "      <th>1</th>\n",
       "      <td>시간요금제(1시간)</td>\n",
       "      <td>2022-04-01 23:39</td>\n",
       "      <td>2022-04-02 0:39</td>\n",
       "      <td>오전 1:00:00</td>\n",
       "      <td>선불기2</td>\n",
       "      <td>3000</td>\n",
       "      <td>퇴실</td>\n",
       "      <td>customer263717</td>\n",
       "    </tr>\n",
       "    <tr>\n",
       "      <th>2</th>\n",
       "      <td>무제한 입장권</td>\n",
       "      <td>2022-04-01 20:55</td>\n",
       "      <td>2022-04-01 21:41</td>\n",
       "      <td>오전 12:46:00</td>\n",
       "      <td>선불기2</td>\n",
       "      <td>7400</td>\n",
       "      <td>퇴실</td>\n",
       "      <td>customer247263</td>\n",
       "    </tr>\n",
       "    <tr>\n",
       "      <th>3</th>\n",
       "      <td>무제한 입장권</td>\n",
       "      <td>2022-04-01 20:55</td>\n",
       "      <td>2022-04-01 21:41</td>\n",
       "      <td>오전 12:46:00</td>\n",
       "      <td>선불기2</td>\n",
       "      <td>7400</td>\n",
       "      <td>퇴실</td>\n",
       "      <td>customer247263</td>\n",
       "    </tr>\n",
       "    <tr>\n",
       "      <th>4</th>\n",
       "      <td>한국대생 무제한 입장권</td>\n",
       "      <td>2022-04-01 19:54</td>\n",
       "      <td>2022-04-01 22:28</td>\n",
       "      <td>오전 2:33:00</td>\n",
       "      <td>선불기2</td>\n",
       "      <td>7400</td>\n",
       "      <td>퇴실</td>\n",
       "      <td>customer388928</td>\n",
       "    </tr>\n",
       "    <tr>\n",
       "      <th>...</th>\n",
       "      <td>...</td>\n",
       "      <td>...</td>\n",
       "      <td>...</td>\n",
       "      <td>...</td>\n",
       "      <td>...</td>\n",
       "      <td>...</td>\n",
       "      <td>...</td>\n",
       "      <td>...</td>\n",
       "    </tr>\n",
       "    <tr>\n",
       "      <th>22550</th>\n",
       "      <td>종일요금제</td>\n",
       "      <td>2021-02-17 13:09</td>\n",
       "      <td>2021-02-17 14:19</td>\n",
       "      <td>오전 1:10:00</td>\n",
       "      <td>선불기1</td>\n",
       "      <td>6500</td>\n",
       "      <td>퇴실</td>\n",
       "      <td>customer774105</td>\n",
       "    </tr>\n",
       "    <tr>\n",
       "      <th>22551</th>\n",
       "      <td>종일요금제</td>\n",
       "      <td>2021-02-17 13:09</td>\n",
       "      <td>2021-02-17 14:19</td>\n",
       "      <td>오전 1:10:00</td>\n",
       "      <td>선불기1</td>\n",
       "      <td>6500</td>\n",
       "      <td>퇴실</td>\n",
       "      <td>customer774105</td>\n",
       "    </tr>\n",
       "    <tr>\n",
       "      <th>22552</th>\n",
       "      <td>종일요금제</td>\n",
       "      <td>2021-02-17 13:06</td>\n",
       "      <td>2021-02-17 14:19</td>\n",
       "      <td>오전 1:13:00</td>\n",
       "      <td>선불기1</td>\n",
       "      <td>7000</td>\n",
       "      <td>퇴실</td>\n",
       "      <td>customer774105</td>\n",
       "    </tr>\n",
       "    <tr>\n",
       "      <th>22553</th>\n",
       "      <td>종일요금제</td>\n",
       "      <td>2021-02-17 13:06</td>\n",
       "      <td>2021-02-17 14:19</td>\n",
       "      <td>오전 1:13:00</td>\n",
       "      <td>선불기1</td>\n",
       "      <td>7000</td>\n",
       "      <td>퇴실</td>\n",
       "      <td>customer774105</td>\n",
       "    </tr>\n",
       "    <tr>\n",
       "      <th>22554</th>\n",
       "      <td>종일요금제</td>\n",
       "      <td>2021-02-17 12:58</td>\n",
       "      <td>2021-02-17 14:19</td>\n",
       "      <td>오전 1:21:00</td>\n",
       "      <td>선불기1</td>\n",
       "      <td>7000</td>\n",
       "      <td>퇴실</td>\n",
       "      <td>customer774105</td>\n",
       "    </tr>\n",
       "  </tbody>\n",
       "</table>\n",
       "<p>22555 rows × 8 columns</p>\n",
       "</div>"
      ],
      "text/plain": [
       "               요금제명                입실                퇴실           이용    위치  \\\n",
       "0        시간요금제(1시간)  2022-04-01 23:39   2022-04-02 0:39   오전 1:00:00  선불기2   \n",
       "1        시간요금제(1시간)  2022-04-01 23:39   2022-04-02 0:39   오전 1:00:00  선불기2   \n",
       "2           무제한 입장권  2022-04-01 20:55  2022-04-01 21:41  오전 12:46:00  선불기2   \n",
       "3           무제한 입장권  2022-04-01 20:55  2022-04-01 21:41  오전 12:46:00  선불기2   \n",
       "4      한국대생 무제한 입장권  2022-04-01 19:54  2022-04-01 22:28   오전 2:33:00  선불기2   \n",
       "...             ...               ...               ...          ...   ...   \n",
       "22550         종일요금제  2021-02-17 13:09  2021-02-17 14:19   오전 1:10:00  선불기1   \n",
       "22551         종일요금제  2021-02-17 13:09  2021-02-17 14:19   오전 1:10:00  선불기1   \n",
       "22552         종일요금제  2021-02-17 13:06  2021-02-17 14:19   오전 1:13:00  선불기1   \n",
       "22553         종일요금제  2021-02-17 13:06  2021-02-17 14:19   오전 1:13:00  선불기1   \n",
       "22554         종일요금제  2021-02-17 12:58  2021-02-17 14:19   오전 1:21:00  선불기1   \n",
       "\n",
       "         금액  구분              고객  \n",
       "0      3000  퇴실  customer263717  \n",
       "1      3000  퇴실  customer263717  \n",
       "2      7400  퇴실  customer247263  \n",
       "3      7400  퇴실  customer247263  \n",
       "4      7400  퇴실  customer388928  \n",
       "...     ...  ..             ...  \n",
       "22550  6500  퇴실  customer774105  \n",
       "22551  6500  퇴실  customer774105  \n",
       "22552  7000  퇴실  customer774105  \n",
       "22553  7000  퇴실  customer774105  \n",
       "22554  7000  퇴실  customer774105  \n",
       "\n",
       "[22555 rows x 8 columns]"
      ]
     },
     "execution_count": 45,
     "metadata": {},
     "output_type": "execute_result"
    }
   ],
   "source": [
    "temp_var = entry_data\n",
    "temp_var"
   ]
  },
  {
   "cell_type": "code",
   "execution_count": 46,
   "id": "b57480a3",
   "metadata": {},
   "outputs": [],
   "source": [
    "temp_var['금액'] = temp_var['금액'].astype(int)"
   ]
  },
  {
   "cell_type": "code",
   "execution_count": 47,
   "id": "2c6aa0cc",
   "metadata": {},
   "outputs": [
    {
     "data": {
      "text/plain": [
       "요금제명\n",
       "18시이후 무제한           1330500\n",
       "1시간                   90000\n",
       "1시간 요금제               14000\n",
       "3시간                   21000\n",
       "기간권                       0\n",
       "무제한 입장권             1568600\n",
       "무제한(일반요금)              6000\n",
       "무제한(한국대생)             14000\n",
       "시간 요금제(1시간당)          25000\n",
       "시간권                       0\n",
       "시간요금제                 12300\n",
       "시간요금제(1시간)          2665500\n",
       "시간요금제(1시간당)           22500\n",
       "시간요금제(3시간)          2042000\n",
       "심야-조조무제한            6221000\n",
       "심야-조조무제한(06시까지)    11600000\n",
       "이용권                       0\n",
       "입장권(종일권)           23570500\n",
       "조조무제한                693000\n",
       "종일요금제                233000\n",
       "한국대생 무제한 입장권        5207500\n",
       "한국대생 입장권(종일권)      70037000\n",
       "Name: 금액, dtype: int64"
      ]
     },
     "execution_count": 47,
     "metadata": {},
     "output_type": "execute_result"
    }
   ],
   "source": [
    "tickets = temp_var['금액'].groupby(temp_var['요금제명']).sum()\n",
    "tickets"
   ]
  },
  {
   "cell_type": "code",
   "execution_count": 48,
   "id": "75efe53d",
   "metadata": {},
   "outputs": [
    {
     "data": {
      "text/plain": [
       "요금제명\n",
       "한국대생 입장권(종일권)      70037000\n",
       "입장권(종일권)           23570500\n",
       "심야-조조무제한(06시까지)    11600000\n",
       "심야-조조무제한            6221000\n",
       "한국대생 무제한 입장권        5207500\n",
       "시간요금제(1시간)          2665500\n",
       "시간요금제(3시간)          2042000\n",
       "무제한 입장권             1568600\n",
       "18시이후 무제한           1330500\n",
       "조조무제한                693000\n",
       "Name: 금액, dtype: int64"
      ]
     },
     "execution_count": 48,
     "metadata": {},
     "output_type": "execute_result"
    }
   ],
   "source": [
    "tickets = tickets.sort_values(ascending=False)\n",
    "tickets[:10]"
   ]
  },
  {
   "cell_type": "code",
   "execution_count": 49,
   "id": "3a75eec0",
   "metadata": {},
   "outputs": [
    {
     "data": {
      "image/png": "[encoded data removed]",
      "text/plain": [
       "<Figure size 640x480 with 1 Axes>"
      ]
     },
     "metadata": {},
     "output_type": "display_data"
    }
   ],
   "source": [
    "tickets[:10].plot(kind='bar')\n",
    "plt.ylabel('원')\n",
    "plt.title('입장권별 판매금액')\n",
    "plt.show()"
   ]
  },
  {
   "cell_type": "code",
   "execution_count": null,
   "id": "5f1d1e79",
   "metadata": {},
   "outputs": [],
   "source": []
  }
 ],
 "metadata": {
  "kernelspec": {
   "display_name": "Python 3 (ipykernel)",
   "language": "python",
   "name": "python3"
  },
  "language_info": {
   "codemirror_mode": {
    "name": "ipython",
    "version": 3
   },
   "file_extension": ".py",
   "mimetype": "text/x-python",
   "name": "python",
   "nbconvert_exporter": "python",
   "pygments_lexer": "ipython3",
   "version": "3.9.7"
  }
 },
 "nbformat": 4,
 "nbformat_minor": 5
}
